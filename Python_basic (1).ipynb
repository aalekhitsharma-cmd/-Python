{
  "nbformat": 4,
  "nbformat_minor": 0,
  "metadata": {
    "colab": {
      "provenance": []
    },
    "kernelspec": {
      "name": "python3",
      "display_name": "Python 3"
    },
    "language_info": {
      "name": "python"
    }
  },
  "cells": [
    {
      "cell_type": "markdown",
      "source": [
        "Python basic"
      ],
      "metadata": {
        "id": "1OfpUb78kx9-"
      }
    },
    {
      "cell_type": "markdown",
      "source": [
        "1.What is Python, and why is it popular ?\n",
        "\n",
        "-> Python is a high-level, versatile programming language known for its readability and ease of use. It's popular for web development, data science, machine learning, and scripting due to its simple syntax, extensive libraries, and strong community support. Python's versatility makes it a favorite among both beginners and experienced programmers across various disciplines"
      ],
      "metadata": {
        "id": "5Bhf1rqMk2F1"
      }
    },
    {
      "cell_type": "markdown",
      "source": [
        "2.What is an interpreter in python?\n",
        "\n",
        "-> Python code (.py) is not compiled into machine code directly . Insted ,it is interpreterd by the Python interpreter"
      ],
      "metadata": {
        "id": "vTb8WPrJlAcw"
      }
    },
    {
      "cell_type": "markdown",
      "source": [
        "3.What are pre-defined keywords in python?\n",
        "\n",
        "-> Kewords are pre-defined words that hold a special meaning and have specific purpose in puthon\n",
        "\n",
        "like - if , elif ,else , False , class ,finally , is , return ,continue , broke ."
      ],
      "metadata": {
        "id": "tQNJ7v_9lEyX"
      }
    },
    {
      "cell_type": "markdown",
      "source": [
        "4.Can keywords be used as variable names ?\n",
        "\n",
        "->No, keywords cannot be used as variable names in Python. Python keywords are reserved words that have special meanings and are integral to the syntax and structure of the language. They are recognized by the Python interpreter and serve specific purposes, such as defining control flow, data types, or program structure."
      ],
      "metadata": {
        "id": "qKUXscSalIaG"
      }
    },
    {
      "cell_type": "markdown",
      "source": [
        "5.5.What is mutability in Python ?\n",
        "\n",
        "->Objects/Container whose state or value can be changed after they are created are called as mutable objects or container"
      ],
      "metadata": {
        "id": "xsCgu1t5lLla"
      }
    },
    {
      "cell_type": "markdown",
      "source": [
        "6..Why are lists mutable, but tuples are immutable ?\n",
        "\n",
        "-> List is type of mutable object supports item assingment. Tuples is a type of immutable object doesn't support item assignment"
      ],
      "metadata": {
        "id": "krRKWLkclPWv"
      }
    },
    {
      "cell_type": "markdown",
      "source": [
        "7..What is the difference between “==” and “is” operators in Python ?\n",
        "\n",
        "-> In Python, the == and is operators are used for comparison, but they serve distinct purposes: == (Equality Operator): Compares the values of two objects. Evaluates whether the content or data represented by the objects is the same. For custom classes, the behavior of == can be defined by implementing the eq method. is (Identity Operator): Compares the identity of two objects. Checks whether two variables refer to the exact same object in memory. Returns True if both variables point to the same memory address, and False otherwise. This is equivalent to checking if id(object1) == id(object2)."
      ],
      "metadata": {
        "id": "LxmZtrr7lUPp"
      }
    },
    {
      "cell_type": "markdown",
      "source": [
        "8.What are logical operators in Python ?\n",
        "\n",
        "-> Logical operators in Python are used to combine conditional statements and evaluate expressions based on their truth values (True or False). They are crucial for creating complex decision-making logic within programs."
      ],
      "metadata": {
        "id": "q3HnOiABlZz3"
      }
    },
    {
      "cell_type": "markdown",
      "source": [
        "9.What is type casting in Python ?\n",
        "\n",
        "-> The process of changing the data type of a value . While executing computation using operators , there can be mismatch between the datatype."
      ],
      "metadata": {
        "id": "Ml6X06eDleji"
      }
    },
    {
      "cell_type": "markdown",
      "source": [
        "10.What is the difference between implicit and explicit type casting ?\n",
        "\n",
        "-> Implicit Type Casting (Coercion): This conversion is performed automatically by the Python interpreter when operations involve different data types. Python prioritizes preventing data loss during implicit conversion, typically converting to the \"higher\" data type (e.g., int to float). -\n",
        "\n",
        "Explicit Type Casting (Type Casting): This conversion is performed explicitly by the programmer using built-in type conversion functions. It allows for conversion to a specific data type, even if it might result in data loss (e.g., converting a float to an int truncates the decimal part)."
      ],
      "metadata": {
        "id": "9M0oCtUuli-X"
      }
    },
    {
      "cell_type": "markdown",
      "source": [
        "11.What is the purpose of conditional statements in Python ?\n",
        "\n",
        "->The purpose of conditional statements in Python is helps you to code decisions based on some pre-conditions ."
      ],
      "metadata": {
        "id": "-PtPN6eolj4W"
      }
    },
    {
      "cell_type": "markdown",
      "source": [
        "12.How does the elif statement work ?\n",
        "\n",
        "-> The elif statement in Python, short for \"else if,\" allows for the evaluation of multiple conditions in a sequential manner. It is always used in conjunction with an if statement and can be followed by an optional else statement.\n",
        "\n",
        "Here's how it works: Initial if check: Python first evaluates the condition of the if statement. If the if condition is True, the code block associated with the if statement is executed, and the entire if-elif-else block is exited."
      ],
      "metadata": {
        "id": "vkD0elT1lmaS"
      }
    },
    {
      "cell_type": "markdown",
      "source": [
        "13.What is the difference between for and while loops ?\n",
        "\n",
        "-> For loops iterating over a sequence of elements, while loops repeatedly executed a block of code untill a condition is met ."
      ],
      "metadata": {
        "id": "iddJfLmaloqv"
      }
    },
    {
      "cell_type": "markdown",
      "source": [
        "14.Describe a scenario where a while loop is more suitable than a for loop ?\n",
        "\n",
        "-> When assigning values in a Python program, a while loop is generally more suitable than a for loop in situations where:\n",
        "\n",
        "The Number of Iterations is Unknown in Advance (Conditional Termination)\n",
        "Scenario: Imagine you're writing a guessing game where the user needs to guess a secret number. You don't know how many attempts it will take for the user to guess correctly.\n",
        "\n",
        "While Loop Advantage: A while loop can be used to repeatedly prompt the user for input as long as their guess doesn't match the secret number. The loop continues until the condition (guess != secret_number) becomes false, meaning the correct number has been guessed.\n",
        "\n",
        "Why a for loop isn't ideal: A for loop would require specifying a predetermined number of iterations, which doesn't fit the dynamic nature of a guessing game where the number of guesses is unpredictable. Here's an example:"
      ],
      "metadata": {
        "id": "uMbvivGEl-aH"
      }
    },
    {
      "cell_type": "code",
      "source": [
        "1#Write a Python program to print \"Hello, World!y\n",
        "print(\"Hello,world\")"
      ],
      "metadata": {
        "colab": {
          "base_uri": "https://localhost:8080/"
        },
        "id": "THQ6ED_GmCGt",
        "outputId": "8ca4b698-e500-42b3-acdb-8039fce4a91b"
      },
      "execution_count": 17,
      "outputs": [
        {
          "output_type": "stream",
          "name": "stdout",
          "text": [
            "Hello,world\n"
          ]
        }
      ]
    },
    {
      "cell_type": "code",
      "execution_count": 18,
      "metadata": {
        "colab": {
          "base_uri": "https://localhost:8080/"
        },
        "id": "Gu43rallktP9",
        "outputId": "d0567351-cd72-451f-edad-e0ed10a97db5"
      },
      "outputs": [
        {
          "output_type": "stream",
          "name": "stdout",
          "text": [
            "enter you nameaalekhit\n",
            "enter you age18\n",
            "Hello, my name is aalekhit and I am 18 years old.\n"
          ]
        }
      ],
      "source": [
        "2#Write a Python program that displays your name and age.\n",
        "name = input (\"enter you name\")\n",
        "age = input (\"enter you age\")\n",
        "print(f\"Hello, my name is {name} and I am {age} years old.\")"
      ]
    },
    {
      "cell_type": "code",
      "source": [
        "# Write code to print all the pre-defined keywords in Python using the keyword library.\n",
        "import keyword\n",
        "print(keyword.kwlist)"
      ],
      "metadata": {
        "colab": {
          "base_uri": "https://localhost:8080/"
        },
        "id": "NhxH5NiwmKJy",
        "outputId": "e972f6dc-3b77-4847-8a80-22e8d9140bf8"
      },
      "execution_count": 19,
      "outputs": [
        {
          "output_type": "stream",
          "name": "stdout",
          "text": [
            "['False', 'None', 'True', 'and', 'as', 'assert', 'async', 'await', 'break', 'class', 'continue', 'def', 'del', 'elif', 'else', 'except', 'finally', 'for', 'from', 'global', 'if', 'import', 'in', 'is', 'lambda', 'nonlocal', 'not', 'or', 'pass', 'raise', 'return', 'try', 'while', 'with', 'yield']\n"
          ]
        }
      ]
    },
    {
      "cell_type": "code",
      "source": [
        "#Write a program that checks if a given word is a Python keyword.\n",
        "import keyword\n",
        "\n",
        "def is_python_keyword(word):\n",
        "   return keyword.iskeyword(word)\n",
        "word_to_check = input(\"Enter a word: \")\n",
        "\n",
        "if is_python_keyword(word_to_check):\n",
        "  print(f\"'{word_to_check}' is a Python keyword.\")\n",
        "else:\n",
        "  print(f\"'{word_to_check}' is not a Python keyword.\")"
      ],
      "metadata": {
        "colab": {
          "base_uri": "https://localhost:8080/"
        },
        "id": "S7KJ5lQYmMYo",
        "outputId": "c620c419-ad00-47ac-a790-a51f762591fd"
      },
      "execution_count": 20,
      "outputs": [
        {
          "output_type": "stream",
          "name": "stdout",
          "text": [
            "Enter a word: if\n",
            "'if' is a Python keyword.\n"
          ]
        }
      ]
    },
    {
      "cell_type": "code",
      "source": [
        " #Create a list and tuple in Python, and demonstrate how attempting to change an element works differently for each.\n",
        " my_list = [10, 20, 30, 40]\n",
        "print(f\"Original list: {my_list}\")\n",
        "\n",
        "# Attempt to change an element in the list\n",
        "my_list[1] = 25\n",
        "print(f\"Modified list: {my_list}\")\n",
        "# Create a tuple\n",
        "my_tuple = (100, 200, 300, 400)\n",
        "print(f\"Original tuple: {my_tuple}\")\n",
        "\n",
        "# Attempt to change an element in the tuple (this will raise an error)\n",
        "try:\n",
        "    my_tuple[1] = 250\n",
        "except TypeError as e:\n",
        "    print(f\"Error when attempting to modify tuple: {e}\")"
      ],
      "metadata": {
        "colab": {
          "base_uri": "https://localhost:8080/"
        },
        "id": "JmmUE1rpmfm1",
        "outputId": "4cd84f92-914a-49b8-85f2-c8353434cef7"
      },
      "execution_count": 21,
      "outputs": [
        {
          "output_type": "stream",
          "name": "stdout",
          "text": [
            "Original list: [10, 20, 30, 40]\n",
            "Modified list: [10, 25, 30, 40]\n",
            "Original tuple: (100, 200, 300, 400)\n",
            "Error when attempting to modify tuple: 'tuple' object does not support item assignment\n"
          ]
        }
      ]
    },
    {
      "cell_type": "code",
      "source": [
        "# Write a function to demonstrate the behavior of mutable and immutable arguments\n",
        "\n",
        "# Function to demonstrate mutable argument behavior\n",
        "def demonstrate_mutable_argument(some_list):\n",
        "    print(f\"Inside function: Before modification, list ID: {id(some_list)}\")\n",
        "    print(f\"Inside function: Before modification, list content: {some_list}\")\n",
        "    some_list.append(4)  # Modify the list in-place\n",
        "    print(f\"Inside function: After modification, list ID: {id(some_list)}\")\n",
        "    print(f\"Inside function: After modification, list content: {some_list}\")\n",
        "\n",
        "# Function to demonstrate immutable argument behavior\n",
        "def demonstrate_immutable_argument(some_int):\n",
        "    print(f\"Inside function: Before modification, integer ID: {id(some_int)}\")\n",
        "    print(f\"Inside function: Before modification, integer content: {some_int}\")\n",
        "    some_int += 1  # This creates a new integer object\n",
        "    print(f\"Inside function: After modification, integer ID: {id(some_int)}\")\n",
        "    print(f\"Inside function: After modification, integer content: {some_int}\")\n",
        "\n",
        "# Mutable argument example (list)\n",
        "my_list = [1, 2, 3]\n",
        "print(f\"Outside function: Original list ID: {id(my_list)}\")\n",
        "print(f\"Outside function: Original list content: {my_list}\")\n",
        "demonstrate_mutable_argument(my_list)\n",
        "print(f\"Outside function: After function call, list ID: {id(my_list)}\")\n",
        "print(f\"Outside function: After function call, list content: {my_list}\\n\")\n",
        "\n",
        "# Immutable argument example (integer)\n",
        "my_int = 10\n",
        "print(f\"Outside function: Original integer ID: {id(my_int)}\")\n",
        "print(f\"Outside function: Original integer content: {my_int}\")\n",
        "demonstrate_immutable_argument(my_int)\n",
        "print(f\"Outside function: After function call, integer ID: {id(my_int)}\")\n",
        "print(f\"Outside function: After function call, integer content: {my_int}\")"
      ],
      "metadata": {
        "colab": {
          "base_uri": "https://localhost:8080/"
        },
        "id": "yXWk78DMmj3L",
        "outputId": "f807e5c9-35e7-448e-eded-43630359d54f"
      },
      "execution_count": 22,
      "outputs": [
        {
          "output_type": "stream",
          "name": "stdout",
          "text": [
            "Outside function: Original list ID: 135927212451648\n",
            "Outside function: Original list content: [1, 2, 3]\n",
            "Inside function: Before modification, list ID: 135927212451648\n",
            "Inside function: Before modification, list content: [1, 2, 3]\n",
            "Inside function: After modification, list ID: 135927212451648\n",
            "Inside function: After modification, list content: [1, 2, 3, 4]\n",
            "Outside function: After function call, list ID: 135927212451648\n",
            "Outside function: After function call, list content: [1, 2, 3, 4]\n",
            "\n",
            "Outside function: Original integer ID: 10758024\n",
            "Outside function: Original integer content: 10\n",
            "Inside function: Before modification, integer ID: 10758024\n",
            "Inside function: Before modification, integer content: 10\n",
            "Inside function: After modification, integer ID: 10758056\n",
            "Inside function: After modification, integer content: 11\n",
            "Outside function: After function call, integer ID: 10758024\n",
            "Outside function: After function call, integer content: 10\n"
          ]
        }
      ]
    },
    {
      "cell_type": "code",
      "source": [
        "#Write a program that performs basic arithmetic operations on two user-input numbers.\n",
        "a = 6\n",
        "b = 7\n",
        "a+b"
      ],
      "metadata": {
        "colab": {
          "base_uri": "https://localhost:8080/"
        },
        "id": "KYQyHxUxmm8i",
        "outputId": "108abd47-0ca3-4057-d17b-30c97635f6fe"
      },
      "execution_count": 23,
      "outputs": [
        {
          "output_type": "execute_result",
          "data": {
            "text/plain": [
              "13"
            ]
          },
          "metadata": {},
          "execution_count": 23
        }
      ]
    },
    {
      "cell_type": "code",
      "source": [
        "#Write a program to demonstrate the use of logical operators.\n",
        "('true'and'false')"
      ],
      "metadata": {
        "colab": {
          "base_uri": "https://localhost:8080/",
          "height": 35
        },
        "id": "vNwmuXSWmppa",
        "outputId": "779cd76e-c8d7-4c46-cca8-170c3d5c95d5"
      },
      "execution_count": 24,
      "outputs": [
        {
          "output_type": "execute_result",
          "data": {
            "text/plain": [
              "'false'"
            ],
            "application/vnd.google.colaboratory.intrinsic+json": {
              "type": "string"
            }
          },
          "metadata": {},
          "execution_count": 24
        }
      ]
    },
    {
      "cell_type": "code",
      "source": [
        "#Write code to demonstrate type casting with list elements.\n",
        "my_liat = [1,2,3,4,5]\n",
        "str(my_list)"
      ],
      "metadata": {
        "colab": {
          "base_uri": "https://localhost:8080/",
          "height": 35
        },
        "id": "HmpQqaCfmsHd",
        "outputId": "331ff144-d8ed-4669-801c-88340f446896"
      },
      "execution_count": 25,
      "outputs": [
        {
          "output_type": "execute_result",
          "data": {
            "text/plain": [
              "'[1, 2, 3, 4]'"
            ],
            "application/vnd.google.colaboratory.intrinsic+json": {
              "type": "string"
            }
          },
          "metadata": {},
          "execution_count": 25
        }
      ]
    },
    {
      "cell_type": "code",
      "source": [
        "#Write a program that checks if a number is positive, negative, or zero.\n",
        "def check_number_sign(number):\n",
        "  if number > 0:\n",
        "    return \"positive\"\n",
        "  elif number < 0:\n",
        "    return \"negative\"\n",
        "  else:\n",
        "    return \"zero\"\n",
        "\n",
        "num1 = 10\n",
        "num2 = -5\n",
        "num3 = 0\n",
        "\n",
        "print(f\"The number {num1} is {check_number_sign(num1)}.\")\n",
        "print(f\"The number {num2} is {check_number_sign(num2)}.\")\n",
        "print(f\"The number {num3} is {check_number_sign(num3)}.\")"
      ],
      "metadata": {
        "colab": {
          "base_uri": "https://localhost:8080/"
        },
        "id": "FMGeQlzXmukE",
        "outputId": "8d7bcce5-aa91-41be-84fe-f63555afcfa1"
      },
      "execution_count": 26,
      "outputs": [
        {
          "output_type": "stream",
          "name": "stdout",
          "text": [
            "The number 10 is positive.\n",
            "The number -5 is negative.\n",
            "The number 0 is zero.\n"
          ]
        }
      ]
    },
    {
      "cell_type": "code",
      "source": [
        "# Write a for loop to print numbers from 1 to 10.\n",
        "for i in range(1,11):\n",
        "  print(i)"
      ],
      "metadata": {
        "colab": {
          "base_uri": "https://localhost:8080/"
        },
        "id": "RP4DmUyamwzR",
        "outputId": "0ac3f97e-b295-49d3-dd62-ba8dc0acc6e3"
      },
      "execution_count": 27,
      "outputs": [
        {
          "output_type": "stream",
          "name": "stdout",
          "text": [
            "1\n",
            "2\n",
            "3\n",
            "4\n",
            "5\n",
            "6\n",
            "7\n",
            "8\n",
            "9\n",
            "10\n"
          ]
        }
      ]
    },
    {
      "cell_type": "code",
      "source": [
        "#Write a Python program to find the sum of all even numbers between 1 and 50.\n",
        "total_sum = 0\n",
        "for number in range(1,51):\n",
        "  if number % 2 == 0:\n",
        "    total_sum += number\n",
        "    print(f\"the sum all even number between 1,50 is:{total_sum}\")\n"
      ],
      "metadata": {
        "colab": {
          "base_uri": "https://localhost:8080/"
        },
        "id": "vPb5W4wUmzh5",
        "outputId": "da979777-4669-4286-d965-22d0b218634f"
      },
      "execution_count": 28,
      "outputs": [
        {
          "output_type": "stream",
          "name": "stdout",
          "text": [
            "the sum all even number between 1,50 is:2\n",
            "the sum all even number between 1,50 is:6\n",
            "the sum all even number between 1,50 is:12\n",
            "the sum all even number between 1,50 is:20\n",
            "the sum all even number between 1,50 is:30\n",
            "the sum all even number between 1,50 is:42\n",
            "the sum all even number between 1,50 is:56\n",
            "the sum all even number between 1,50 is:72\n",
            "the sum all even number between 1,50 is:90\n",
            "the sum all even number between 1,50 is:110\n",
            "the sum all even number between 1,50 is:132\n",
            "the sum all even number between 1,50 is:156\n",
            "the sum all even number between 1,50 is:182\n",
            "the sum all even number between 1,50 is:210\n",
            "the sum all even number between 1,50 is:240\n",
            "the sum all even number between 1,50 is:272\n",
            "the sum all even number between 1,50 is:306\n",
            "the sum all even number between 1,50 is:342\n",
            "the sum all even number between 1,50 is:380\n",
            "the sum all even number between 1,50 is:420\n",
            "the sum all even number between 1,50 is:462\n",
            "the sum all even number between 1,50 is:506\n",
            "the sum all even number between 1,50 is:552\n",
            "the sum all even number between 1,50 is:600\n",
            "the sum all even number between 1,50 is:650\n"
          ]
        }
      ]
    },
    {
      "cell_type": "code",
      "source": [
        "# Write a program to reverse a string using a while loop\n",
        "def reverse_string_while_loop(input_str):\n",
        "  reversed_str = \"\"\n",
        "  index = len(input_str) - 1\n",
        "  while index >= 0:\n",
        "    reversed_str += input_str[index]\n",
        "    index -= 1\n",
        "  return reversed_str\n",
        "\n",
        "original_str = \"Hello World\"\n",
        "reversed_str = reverse_string_while_loop(original_str)\n",
        "print(f\"Original string: {original_str}\")\n",
        "print(f\"Reversed string: {reversed_str}\")\n",
        "\n",
        "original_str_2 = \"Python\"\n",
        "reversed_str_2 = reverse_string_while_loop(original_str_2)\n",
        "print(f\"Original string: {original_str_2}\")\n",
        "print(f\"Reversed string: {reversed_str_2}\")"
      ],
      "metadata": {
        "colab": {
          "base_uri": "https://localhost:8080/"
        },
        "id": "DL5EUDptm2pn",
        "outputId": "2166f5a2-10c7-4c51-dacf-de0a4ddae3c3"
      },
      "execution_count": 29,
      "outputs": [
        {
          "output_type": "stream",
          "name": "stdout",
          "text": [
            "Original string: Hello World\n",
            "Reversed string: dlroW olleH\n",
            "Original string: Python\n",
            "Reversed string: nohtyP\n"
          ]
        }
      ]
    },
    {
      "cell_type": "code",
      "source": [
        "# Write a Python program to calculate the factorial of a number provided by the user using a while loop.\n",
        "def calculate_factorial(number):\n",
        "    if number < 0:\n",
        "          return \"Factorial is not defined for negative numbers.\"\n",
        "    elif number == 0:\n",
        "        return 1\n",
        "    else:\n",
        "        factorial = 1\n",
        "        i = 1\n",
        "        while i <= number:\n",
        "            factorial *= i\n",
        "            i += 1\n",
        "        return factorial\n",
        "\n",
        "try:\n",
        "    num = int(input(\"Enter a non-negative integer: \"))\n",
        "    result = calculate_factorial(num)\n",
        "    print(f\"The factorial of {num} is: {result}\")\n",
        "except ValueError:\n",
        "    print(\"Invalid input. Please enter an integer.\")"
      ],
      "metadata": {
        "colab": {
          "base_uri": "https://localhost:8080/"
        },
        "id": "q85ZxLt7m5P8",
        "outputId": "f363eb33-0fa9-4a0f-cabd-27e49545d43a"
      },
      "execution_count": 31,
      "outputs": [
        {
          "output_type": "stream",
          "name": "stdout",
          "text": [
            "Enter a non-negative integer: 9\n",
            "The factorial of 9 is: 362880\n"
          ]
        }
      ]
    },
    {
      "cell_type": "code",
      "source": [],
      "metadata": {
        "id": "i2M0aEhTm6gV"
      },
      "execution_count": 30,
      "outputs": []
    }
  ]
}